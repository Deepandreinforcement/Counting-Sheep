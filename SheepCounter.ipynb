{
 "cells": [
  {
   "cell_type": "code",
   "execution_count": 2,
   "id": "507b7f67",
   "metadata": {},
   "outputs": [],
   "source": [
    "# Kütüphaneleri yüklüyoruz.\n",
    "\n",
    "import cv2\n",
    "import time\n",
    "import numpy as np"
   ]
  },
  {
   "cell_type": "code",
   "execution_count": 3,
   "id": "72197764",
   "metadata": {},
   "outputs": [],
   "source": [
    "# Tracking işlemi yapıldığı için RAM dolup kod kapanmasın diye bunu çalıştırıyoruz.\n",
    "# Bazı donanım ya da kütüphane sürümlerine gerekli olmayabilir.\n",
    "\n",
    "import os\n",
    "os.environ[\"KMP_DUPLICATE_LIB_OK\"]=\"TRUE\""
   ]
  },
  {
   "cell_type": "code",
   "execution_count": 4,
   "id": "7e3c2bd6",
   "metadata": {},
   "outputs": [],
   "source": [
    "# Burada modeli yüklüyoruz. \n",
    "from ultralytics import YOLO\n",
    "model = YOLO(\"yolov8l.pt\")"
   ]
  },
  {
   "cell_type": "code",
   "execution_count": 5,
   "id": "b870719b",
   "metadata": {},
   "outputs": [],
   "source": [
    "font = cv2.FONT_HERSHEY_DUPLEX\n",
    "kamera = cv2.VideoCapture(\"video.mp4\")\n",
    "\n",
    "\n",
    "\n",
    "region1=np.array([(500,0),(500,720),(550,720),(550,0)])\n",
    "region1 = region1.reshape((-1,1,2))\n",
    "\n",
    "total=set()\n",
    "while True:\n",
    "    \n",
    "    \n",
    "\n",
    "    ret, frame = kamera.read()\n",
    "    \n",
    "    if not ret:\n",
    "        break\n",
    "        \n",
    "        \n",
    "    rgb_img=cv2.cvtColor(frame,cv2.COLOR_BGR2RGB)\n",
    "    results = model.track(rgb_img, persist=True, verbose=False)\n",
    "    labels=results[0].names\n",
    " \n",
    "    cv2.line(frame, (550,0), (550,720), (0,0,255), 10)\n",
    "   \n",
    "    for i in range(len(results[0].boxes)):\n",
    "        x1,y1,x2,y2=results[0].boxes.xyxy[i]\n",
    "        score=results[0].boxes.conf[i]\n",
    "        cls=results[0].boxes.cls[i]\n",
    "        ids=results[0].boxes.id[i]\n",
    "    \n",
    "        x1,y1,x2,y2,score,cls,ids=int(x1),int(y1),int(x2),int(y2),float(score),int(cls),int(ids)\n",
    "        name=labels[cls]\n",
    "        \n",
    "\n",
    "        \n",
    "            \n",
    "        if score<0.5:\n",
    "            continue\n",
    "        if name!='sheep':\n",
    "            continue\n",
    "        cx=int(x1/2+x2/2)\n",
    "        cy=int(y1/2+y2/2)\n",
    "        cv2.circle(frame,(cx,cy),10,(255,0,0),-1)\n",
    "        \n",
    "        inside_region1=cv2.pointPolygonTest(region1,(cx,cy),False)\n",
    "        if inside_region1>0:\n",
    "            total.add(ids)\n",
    "        \n",
    "    \n",
    " \n",
    "    total_str='TOTAL: '+str(len(total))\n",
    "    \n",
    "    frame[0:70,0:360]=(102,0,153)\n",
    "    \n",
    "    cv2.putText(frame, total_str,(0, 60), font, 2.2, (255,255,255), 2)\n",
    "\n",
    "\n",
    "    cv2.imshow(\"frame\", frame)\n",
    "    if cv2.waitKey(1) & 0xFF == ord(\"q\"):\n",
    "        break\n",
    "kamera.release()\n",
    "cv2.destroyAllWindows()"
   ]
  },
  {
   "cell_type": "code",
   "execution_count": null,
   "id": "a51e8b53",
   "metadata": {},
   "outputs": [],
   "source": []
  },
  {
   "cell_type": "code",
   "execution_count": null,
   "id": "b8693602",
   "metadata": {},
   "outputs": [],
   "source": []
  },
  {
   "cell_type": "code",
   "execution_count": null,
   "id": "cc1741af",
   "metadata": {},
   "outputs": [],
   "source": []
  }
 ],
 "metadata": {
  "kernelspec": {
   "display_name": "Python 3 (ipykernel)",
   "language": "python",
   "name": "python3"
  },
  "language_info": {
   "codemirror_mode": {
    "name": "ipython",
    "version": 3
   },
   "file_extension": ".py",
   "mimetype": "text/x-python",
   "name": "python",
   "nbconvert_exporter": "python",
   "pygments_lexer": "ipython3",
   "version": "3.9.13"
  }
 },
 "nbformat": 4,
 "nbformat_minor": 5
}
